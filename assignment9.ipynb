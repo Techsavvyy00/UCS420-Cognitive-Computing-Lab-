{
  "nbformat": 4,
  "nbformat_minor": 0,
  "metadata": {
    "colab": {
      "provenance": [],
      "authorship_tag": "ABX9TyPKtsTN5zGDaSKnWzxgBKs9",
      "include_colab_link": true
    },
    "kernelspec": {
      "name": "python3",
      "display_name": "Python 3"
    },
    "language_info": {
      "name": "python"
    }
  },
  "cells": [
    {
      "cell_type": "markdown",
      "metadata": {
        "id": "view-in-github",
        "colab_type": "text"
      },
      "source": [
        "<a href=\"https://colab.research.google.com/github/aditya-cognitive/cc_assignment/blob/main/cc_ass9.ipynb\" target=\"_parent\"><img src=\"https://colab.research.google.com/assets/colab-badge.svg\" alt=\"Open In Colab\"/></a>"
      ]
    },
    {
      "cell_type": "markdown",
      "source": [
        "ASSIGNMENT-9"
      ],
      "metadata": {
        "id": "WrOG8dc0JMIO"
      }
    },
    {
      "cell_type": "code",
      "execution_count": 55,
      "metadata": {
        "id": "Q0H1lgzpvgut"
      },
      "outputs": [],
      "source": [
        "sample_text=\"\"\"The runners were running swiftly towards the finishing line, hoping to win the championship of 2023.\n",
        "Mr.Thomas's email, thomas_23@nlp-expert.org, was leaked accidentally on www.example-site.com.\n",
        "\"I’ve tried—really tried—to improve the model’s performance!\" he said.\n",
        "The model versions: v1.0, v1.1-beta, and v2-final were all evaluated.\n",
        "Call support at +44-7700-900321 or send feedback to dev-team@example.com.\"\"\""
      ]
    },
    {
      "cell_type": "code",
      "source": [
        "text_lowercase=sample_text.lower()\n",
        "print(text_lowercase)"
      ],
      "metadata": {
        "colab": {
          "base_uri": "https://localhost:8080/"
        },
        "id": "X2RDMeWpEyrn",
        "outputId": "0c796847-c06f-4790-9b06-192b2258ada8"
      },
      "execution_count": 2,
      "outputs": [
        {
          "output_type": "stream",
          "name": "stdout",
          "text": [
            "the runners were running swiftly towards the finishing line, hoping to win the championship of 2023.\n",
            "mr.thomas's email, thomas_23@nlp-expert.org, was leaked accidentally on www.example-site.com.\n",
            "\"i’ve tried—really tried—to improve the model’s performance!\" he said.\n",
            "the model versions: v1.0, v1.1-beta, and v2-final were all evaluated.\n",
            "call support at +44-7700-900321 or send feedback to dev-team@example.com.\n"
          ]
        }
      ]
    },
    {
      "cell_type": "code",
      "source": [],
      "metadata": {
        "id": "RxqalHQcfb7b"
      },
      "execution_count": 2,
      "outputs": []
    },
    {
      "cell_type": "code",
      "source": [
        "import string\n",
        "punc_remover=str.maketrans('','',string.punctuation)\n",
        "#maketrans creates a mapping to remove punctuation characters\n",
        "text_cleaned=text_lowercase.translate(punc_remover)\n",
        "print(text_cleaned)"
      ],
      "metadata": {
        "colab": {
          "base_uri": "https://localhost:8080/"
        },
        "id": "WtAvQE-RE4MS",
        "outputId": "874a40f3-8925-4e1b-a224-430838951d81"
      },
      "execution_count": 3,
      "outputs": [
        {
          "output_type": "stream",
          "name": "stdout",
          "text": [
            "the runners were running swiftly towards the finishing line hoping to win the championship of 2023\n",
            "mrthomass email thomas23nlpexpertorg was leaked accidentally on wwwexamplesitecom\n",
            "i’ve tried—really tried—to improve the model’s performance he said\n",
            "the model versions v10 v11beta and v2final were all evaluated\n",
            "call support at 447700900321 or send feedback to devteamexamplecom\n"
          ]
        }
      ]
    },
    {
      "cell_type": "code",
      "source": [
        "import nltk\n",
        "from nltk.tokenize import sent_tokenize, word_tokenize\n",
        "nltk.download('punkt_tab')\n",
        "tokenized_words=word_tokenize(text_cleaned)\n",
        "tokenized_sentences=sent_tokenize(sample_text)\n",
        "print(\"Words tokenized:\",tokenized_words)\n",
        "print(\"Sentences tokenized:\",tokenized_sentences)"
      ],
      "metadata": {
        "colab": {
          "base_uri": "https://localhost:8080/"
        },
        "id": "7gfIYvVtG4hB",
        "outputId": "7c85a97e-6488-463b-b5a5-b1eaa6773635"
      },
      "execution_count": 4,
      "outputs": [
        {
          "output_type": "stream",
          "name": "stderr",
          "text": [
            "[nltk_data] Downloading package punkt_tab to /root/nltk_data...\n",
            "[nltk_data]   Unzipping tokenizers/punkt_tab.zip.\n"
          ]
        },
        {
          "output_type": "stream",
          "name": "stdout",
          "text": [
            "Words tokenized: ['the', 'runners', 'were', 'running', 'swiftly', 'towards', 'the', 'finishing', 'line', 'hoping', 'to', 'win', 'the', 'championship', 'of', '2023', 'mrthomass', 'email', 'thomas23nlpexpertorg', 'was', 'leaked', 'accidentally', 'on', 'wwwexamplesitecom', 'i', '’', 've', 'tried—really', 'tried—to', 'improve', 'the', 'model', '’', 's', 'performance', 'he', 'said', 'the', 'model', 'versions', 'v10', 'v11beta', 'and', 'v2final', 'were', 'all', 'evaluated', 'call', 'support', 'at', '447700900321', 'or', 'send', 'feedback', 'to', 'devteamexamplecom']\n",
            "Sentences tokenized: ['The runners were running swiftly towards the finishing line, hoping to win the championship of 2023.', \"Mr.Thomas's email, thomas_23@nlp-expert.org, was leaked accidentally on www.example-site.com.\", '\"I’ve tried—really tried—to improve the model’s performance!\"', 'he said.', 'The model versions: v1.0, v1.1-beta, and v2-final were all evaluated.', 'Call support at +44-7700-900321 or send feedback to dev-team@example.com.']\n"
          ]
        }
      ]
    },
    {
      "cell_type": "code",
      "source": [
        "from nltk.corpus import stopwords\n",
        "nltk.download('stopwords')\n",
        "stopwords_set=set(stopwords.words('english'))\n",
        "filtered_words=[]\n",
        "for word in tokenized_words:\n",
        "    if word not in stopwords_set:\n",
        "        filtered_words.append(word)\n",
        "print(filtered_words)"
      ],
      "metadata": {
        "colab": {
          "base_uri": "https://localhost:8080/"
        },
        "id": "9_wrnvNFI6wH",
        "outputId": "19ee5ab7-9c8e-4bf3-d1c7-ae8ca2b686b8"
      },
      "execution_count": 5,
      "outputs": [
        {
          "output_type": "stream",
          "name": "stderr",
          "text": [
            "[nltk_data] Downloading package stopwords to /root/nltk_data...\n",
            "[nltk_data]   Unzipping corpora/stopwords.zip.\n"
          ]
        },
        {
          "output_type": "stream",
          "name": "stdout",
          "text": [
            "['runners', 'running', 'swiftly', 'towards', 'finishing', 'line', 'hoping', 'win', 'championship', '2023', 'mrthomass', 'email', 'thomas23nlpexpertorg', 'leaked', 'accidentally', 'wwwexamplesitecom', '’', 'tried—really', 'tried—to', 'improve', 'model', '’', 'performance', 'said', 'model', 'versions', 'v10', 'v11beta', 'v2final', 'evaluated', 'call', 'support', '447700900321', 'send', 'feedback', 'devteamexamplecom']\n"
          ]
        }
      ]
    },
    {
      "cell_type": "code",
      "source": [
        "from nltk import FreqDist\n",
        "freq_dist=FreqDist(filtered_words)\n",
        "print(freq_dist.items())"
      ],
      "metadata": {
        "colab": {
          "base_uri": "https://localhost:8080/"
        },
        "id": "Cr46Co-ePDaC",
        "outputId": "43206719-6a8a-40d8-acbc-82fc1a695316"
      },
      "execution_count": 6,
      "outputs": [
        {
          "output_type": "stream",
          "name": "stdout",
          "text": [
            "dict_items([('runners', 1), ('running', 1), ('swiftly', 1), ('towards', 1), ('finishing', 1), ('line', 1), ('hoping', 1), ('win', 1), ('championship', 1), ('2023', 1), ('mrthomass', 1), ('email', 1), ('thomas23nlpexpertorg', 1), ('leaked', 1), ('accidentally', 1), ('wwwexamplesitecom', 1), ('’', 2), ('tried—really', 1), ('tried—to', 1), ('improve', 1), ('model', 2), ('performance', 1), ('said', 1), ('versions', 1), ('v10', 1), ('v11beta', 1), ('v2final', 1), ('evaluated', 1), ('call', 1), ('support', 1), ('447700900321', 1), ('send', 1), ('feedback', 1), ('devteamexamplecom', 1)])\n"
          ]
        }
      ]
    },
    {
      "cell_type": "code",
      "source": [
        "from nltk.stem import PorterStemmer,LancasterStemmer\n",
        "porter=PorterStemmer()\n",
        "lancaster=LancasterStemmer()\n",
        "\n",
        "for word in filtered_words:\n",
        "  print(f\"{word}: Porter->{porter.stem(word)}, Lancaster->{lancaster.stem(word)}\")"
      ],
      "metadata": {
        "colab": {
          "base_uri": "https://localhost:8080/"
        },
        "id": "FjudWUIyHqJo",
        "outputId": "3c67e552-dd39-4099-e0f1-ed19e716ba07"
      },
      "execution_count": 7,
      "outputs": [
        {
          "output_type": "stream",
          "name": "stdout",
          "text": [
            "runners: Porter->runner, Lancaster->run\n",
            "running: Porter->run, Lancaster->run\n",
            "swiftly: Porter->swiftli, Lancaster->swift\n",
            "towards: Porter->toward, Lancaster->toward\n",
            "finishing: Porter->finish, Lancaster->fin\n",
            "line: Porter->line, Lancaster->lin\n",
            "hoping: Porter->hope, Lancaster->hop\n",
            "win: Porter->win, Lancaster->win\n",
            "championship: Porter->championship, Lancaster->champ\n",
            "2023: Porter->2023, Lancaster->2023\n",
            "mrthomass: Porter->mrthomass, Lancaster->mrthomass\n",
            "email: Porter->email, Lancaster->email\n",
            "thomas23nlpexpertorg: Porter->thomas23nlpexpertorg, Lancaster->thomas23nlpexpertorg\n",
            "leaked: Porter->leak, Lancaster->leak\n",
            "accidentally: Porter->accident, Lancaster->accid\n",
            "wwwexamplesitecom: Porter->wwwexamplesitecom, Lancaster->wwwexamplesitecom\n",
            "’: Porter->’, Lancaster->’\n",
            "tried—really: Porter->tried—real, Lancaster->tried—really\n",
            "tried—to: Porter->tried—to, Lancaster->tried—to\n",
            "improve: Porter->improv, Lancaster->improv\n",
            "model: Porter->model, Lancaster->model\n",
            "’: Porter->’, Lancaster->’\n",
            "performance: Porter->perform, Lancaster->perform\n",
            "said: Porter->said, Lancaster->said\n",
            "model: Porter->model, Lancaster->model\n",
            "versions: Porter->version, Lancaster->vert\n",
            "v10: Porter->v10, Lancaster->v10\n",
            "v11beta: Porter->v11beta, Lancaster->v11beta\n",
            "v2final: Porter->v2final, Lancaster->v2final\n",
            "evaluated: Porter->evalu, Lancaster->evalu\n",
            "call: Porter->call, Lancaster->cal\n",
            "support: Porter->support, Lancaster->support\n",
            "447700900321: Porter->447700900321, Lancaster->447700900321\n",
            "send: Porter->send, Lancaster->send\n",
            "feedback: Porter->feedback, Lancaster->feedback\n",
            "devteamexamplecom: Porter->devteamexamplecom, Lancaster->devteamexamplecom\n"
          ]
        }
      ]
    },
    {
      "cell_type": "code",
      "source": [
        "from nltk.stem import WordNetLemmatizer\n",
        "nltk.download('wordnet')\n",
        "lemmatizer=WordNetLemmatizer()\n",
        "\n",
        "for word in filtered_words:\n",
        "  print(f\"{word}: Lemmatized->{lemmatizer.lemmatize(word)}\")"
      ],
      "metadata": {
        "colab": {
          "base_uri": "https://localhost:8080/"
        },
        "id": "nK5a9Mg5nRND",
        "outputId": "a59eb85c-d49b-43c6-cf0b-788e027ca175"
      },
      "execution_count": 8,
      "outputs": [
        {
          "output_type": "stream",
          "name": "stderr",
          "text": [
            "[nltk_data] Downloading package wordnet to /root/nltk_data...\n"
          ]
        },
        {
          "output_type": "stream",
          "name": "stdout",
          "text": [
            "runners: Lemmatized->runner\n",
            "running: Lemmatized->running\n",
            "swiftly: Lemmatized->swiftly\n",
            "towards: Lemmatized->towards\n",
            "finishing: Lemmatized->finishing\n",
            "line: Lemmatized->line\n",
            "hoping: Lemmatized->hoping\n",
            "win: Lemmatized->win\n",
            "championship: Lemmatized->championship\n",
            "2023: Lemmatized->2023\n",
            "mrthomass: Lemmatized->mrthomass\n",
            "email: Lemmatized->email\n",
            "thomas23nlpexpertorg: Lemmatized->thomas23nlpexpertorg\n",
            "leaked: Lemmatized->leaked\n",
            "accidentally: Lemmatized->accidentally\n",
            "wwwexamplesitecom: Lemmatized->wwwexamplesitecom\n",
            "’: Lemmatized->’\n",
            "tried—really: Lemmatized->tried—really\n",
            "tried—to: Lemmatized->tried—to\n",
            "improve: Lemmatized->improve\n",
            "model: Lemmatized->model\n",
            "’: Lemmatized->’\n",
            "performance: Lemmatized->performance\n",
            "said: Lemmatized->said\n",
            "model: Lemmatized->model\n",
            "versions: Lemmatized->version\n",
            "v10: Lemmatized->v10\n",
            "v11beta: Lemmatized->v11beta\n",
            "v2final: Lemmatized->v2final\n",
            "evaluated: Lemmatized->evaluated\n",
            "call: Lemmatized->call\n",
            "support: Lemmatized->support\n",
            "447700900321: Lemmatized->447700900321\n",
            "send: Lemmatized->send\n",
            "feedback: Lemmatized->feedback\n",
            "devteamexamplecom: Lemmatized->devteamexamplecom\n"
          ]
        }
      ]
    },
    {
      "cell_type": "code",
      "source": [
        "import re\n",
        "long_words=re.findall(r'\\b[a-zA-Z]{6,}\\b',sample_text)\n",
        "print(\"Words with 6+ letters:\",long_words)"
      ],
      "metadata": {
        "colab": {
          "base_uri": "https://localhost:8080/"
        },
        "id": "ru_m-EV3fiHg",
        "outputId": "7edfaf72-394b-4651-e431-473ccaa34d48"
      },
      "execution_count": 11,
      "outputs": [
        {
          "output_type": "stream",
          "name": "stdout",
          "text": [
            "Words with 6+ letters: ['runners', 'running', 'swiftly', 'towards', 'finishing', 'hoping', 'championship', 'Thomas', 'expert', 'leaked', 'accidentally', 'example', 'really', 'improve', 'performance', 'versions', 'evaluated', 'support', 'feedback', 'example']\n"
          ]
        }
      ]
    },
    {
      "cell_type": "code",
      "source": [
        "digits=re.findall(r'\\b\\d+\\b',sample_text)\n",
        "inner_digits=re.findall(r'\\B\\d+\\B',sample_text)\n",
        "all_digits=re.findall(r'\\d+',sample_text)\n",
        "print(\"Standalone digits:\",digits)\n",
        "print(\"Inner digits:\",inner_digits)\n",
        "print(\"All digits:\",all_digits)"
      ],
      "metadata": {
        "id": "aSg8HdSwopMq",
        "colab": {
          "base_uri": "https://localhost:8080/"
        },
        "outputId": "466e24dc-0bde-4b6a-c125-b6aab8988503"
      },
      "execution_count": 22,
      "outputs": [
        {
          "output_type": "stream",
          "name": "stdout",
          "text": [
            "Standalone digits: ['2023', '0', '1', '44', '7700', '900321']\n",
            "Inner digits: ['02', '2', '70', '0032']\n",
            "All digits: ['2023', '23', '1', '0', '1', '1', '2', '44', '7700', '900321']\n"
          ]
        }
      ]
    },
    {
      "cell_type": "code",
      "source": [
        "capitalized_words=re.findall(r'\\b[A-Z][a-zA-Z]*\\b',sample_text)\n",
        "print(\"Capitalized words:\",capitalized_words)"
      ],
      "metadata": {
        "colab": {
          "base_uri": "https://localhost:8080/"
        },
        "id": "E5CBx4eQsR5s",
        "outputId": "2a8ce726-6b17-4643-eb88-ef4c87a23340"
      },
      "execution_count": 31,
      "outputs": [
        {
          "output_type": "stream",
          "name": "stdout",
          "text": [
            "Capitalized words: ['The', 'Mr', 'Thomas', 'I', 'The', 'Call']\n"
          ]
        }
      ]
    },
    {
      "cell_type": "code",
      "source": [
        "alphabetic_words = re.findall(r'\\b[a-zA-Z]+\\b', sample_text)\n",
        "vowel_start_words = [word for word in alphabetic_words if re.match(r'^[aeiouAEIOU]', word)]\n",
        "print(\"All alphabetic words:\",alphabetic_words)\n",
        "print(\"Words starting with vowels:\",vowel_start_words)"
      ],
      "metadata": {
        "colab": {
          "base_uri": "https://localhost:8080/"
        },
        "id": "4rsshmSXvDfS",
        "outputId": "d151ea75-ea53-4824-8c56-95a57431ea54"
      },
      "execution_count": 32,
      "outputs": [
        {
          "output_type": "stream",
          "name": "stdout",
          "text": [
            "All alphabetic words: ['The', 'runners', 'were', 'running', 'swiftly', 'towards', 'the', 'finishing', 'line', 'hoping', 'to', 'win', 'the', 'championship', 'of', 'Mr', 'Thomas', 's', 'email', 'nlp', 'expert', 'org', 'was', 'leaked', 'accidentally', 'on', 'www', 'example', 'site', 'com', 'I', 've', 'tried', 'really', 'tried', 'to', 'improve', 'the', 'model', 's', 'performance', 'he', 'said', 'The', 'model', 'versions', 'beta', 'and', 'final', 'were', 'all', 'evaluated', 'Call', 'support', 'at', 'or', 'send', 'feedback', 'to', 'dev', 'team', 'example', 'com']\n",
            "Words starting with vowels: ['of', 'email', 'expert', 'org', 'accidentally', 'on', 'example', 'I', 'improve', 'and', 'all', 'evaluated', 'at', 'or', 'example']\n"
          ]
        }
      ]
    },
    {
      "cell_type": "code",
      "source": [
        "contractions=re.findall(r'\\b\\w*[\\'\\’]\\w*\\b',sample_text)\n",
        "print(\"Contractions found:\",contractions)"
      ],
      "metadata": {
        "colab": {
          "base_uri": "https://localhost:8080/"
        },
        "id": "WkcGSM7VvgPh",
        "outputId": "218b5e79-d160-4e18-c7df-4ab90a0b07e1"
      },
      "execution_count": 45,
      "outputs": [
        {
          "output_type": "stream",
          "name": "stdout",
          "text": [
            "Contractions found: [\"Thomas's\", 'I’ve', 'model’s']\n"
          ]
        }
      ]
    },
    {
      "cell_type": "code",
      "source": [
        "hyphen_words=re.findall(r'\\b\\w+(?:-\\w+)+\\b',sample_text)\n",
        "print(\"Hyphenated words:\",hyphen_words)"
      ],
      "metadata": {
        "colab": {
          "base_uri": "https://localhost:8080/"
        },
        "id": "ZkQK1xyczM1S",
        "outputId": "99a31833-f1bf-4c8f-981c-0ec26845fdd1"
      },
      "execution_count": 56,
      "outputs": [
        {
          "output_type": "stream",
          "name": "stdout",
          "text": [
            "Hyphenated words: ['nlp-expert', 'example-site', '1-beta', 'v2-final', '44-7700-900321', 'dev-team']\n"
          ]
        }
      ]
    },
    {
      "cell_type": "code",
      "source": [
        "numeric_values=re.findall(r'\\d+|\\d+\\.\\d+',sample_text)\n",
        "print(\"Numeric values:\",numeric_values)"
      ],
      "metadata": {
        "colab": {
          "base_uri": "https://localhost:8080/"
        },
        "id": "5el6rufo1Bfk",
        "outputId": "1e2253b5-e5c9-412b-965a-8e79f8df7baa"
      },
      "execution_count": 60,
      "outputs": [
        {
          "output_type": "stream",
          "name": "stdout",
          "text": [
            "Numeric values: ['2023', '23', '1', '0', '1', '1', '2', '44', '7700', '900321']\n"
          ]
        }
      ]
    },
    {
      "cell_type": "code",
      "source": [
        "masked_text=re.sub(r'[\\w\\.-]+@[\\w\\.-]+\\.[a-zA-Z]{2,}','<EMAIL>',sample_text)\n",
        "print(masked_text)"
      ],
      "metadata": {
        "colab": {
          "base_uri": "https://localhost:8080/"
        },
        "id": "_TVB9PC96Ygj",
        "outputId": "6d006122-c37f-4000-cd06-1607042ef4be"
      },
      "execution_count": 74,
      "outputs": [
        {
          "output_type": "stream",
          "name": "stdout",
          "text": [
            "The runners were running swiftly towards the finishing line, hoping to win the championship of 2023.\n",
            "Mr.Thomas's email, <EMAIL>, was leaked accidentally on www.example-site.com.\n",
            "\"I’ve tried—really tried—to improve the model’s performance!\" he said.\n",
            "The model versions: v1.0, v1.1-beta, and v2-final were all evaluated.\n",
            "Call support at +44-7700-900321 or send feedback to <EMAIL>.\n"
          ]
        }
      ]
    },
    {
      "cell_type": "code",
      "source": [
        "masked_urls=re.sub(r'www\\.\\S+','<URL>',masked_text)\n",
        "print(masked_urls)"
      ],
      "metadata": {
        "colab": {
          "base_uri": "https://localhost:8080/"
        },
        "id": "zDHrktPkISV_",
        "outputId": "9df8e078-5c12-46f2-dfd6-e74f7663f069"
      },
      "execution_count": 75,
      "outputs": [
        {
          "output_type": "stream",
          "name": "stdout",
          "text": [
            "The runners were running swiftly towards the finishing line, hoping to win the championship of 2023.\n",
            "Mr.Thomas's email, <EMAIL>, was leaked accidentally on <URL>\n",
            "\"I’ve tried—really tried—to improve the model’s performance!\" he said.\n",
            "The model versions: v1.0, v1.1-beta, and v2-final were all evaluated.\n",
            "Call support at +44-7700-900321 or send feedback to <EMAIL>.\n"
          ]
        }
      ]
    },
    {
      "cell_type": "code",
      "source": [
        "masked_phones=re.sub(r'[0-9]{3}[-][0-9]{3}[-][0-9]{4}|[+][91 ][0-9]{10}','<PHONE>',masked_urls)\n",
        "print(masked_phones)"
      ],
      "metadata": {
        "colab": {
          "base_uri": "https://localhost:8080/"
        },
        "id": "TQ4gBqroJJYl",
        "outputId": "5982842e-d724-492d-80ae-a275669e0528"
      },
      "execution_count": 77,
      "outputs": [
        {
          "output_type": "stream",
          "name": "stdout",
          "text": [
            "The runners were running swiftly towards the finishing line, hoping to win the championship of 2023.\n",
            "Mr.Thomas's email, <EMAIL>, was leaked accidentally on <URL>\n",
            "\"I’ve tried—really tried—to improve the model’s performance!\" he said.\n",
            "The model versions: v1.0, v1.1-beta, and v2-final were all evaluated.\n",
            "Call support at +44-7700-900321 or send feedback to <EMAIL>.\n"
          ]
        }
      ]
    },
    {
      "cell_type": "code",
      "source": [],
      "metadata": {
        "id": "2ug92pakJoi9"
      },
      "execution_count": null,
      "outputs": []
    }
  ]
}
