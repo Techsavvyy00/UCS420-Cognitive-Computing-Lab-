
{
  "nbformat": 4,
  "nbformat_minor": 0,
  "metadata": {
    "colab": {
      "provenance": [],
      "authorship_tag": "ABX9TyOkwK952LhaSMeN71BFbQeI",
      "include_colab_link": true
    },
    "kernelspec": {
      "name": "python3",
      "display_name": "Python 3"
    },
    "language_info": {
      "name": "python"
    }
  },
  "cells": [
    {
      "cell_type": "markdown",
      "metadata": {
        "id": "view-in-github",
        "colab_type": "text"
      },
      "source": [
        "<a href=\"https://colab.research.google.com/github/aditya-username/cognitive-computing/blob/main/cc_ass7_aditya.ipynb\" target=\"_parent\"><img src=\"https://colab.research.google.com/assets/colab-badge.svg\" alt=\"Open In Colab\"/></a>"
      ]
    },
    {
      "cell_type": "markdown",
      "source": [
        "QUE 1: Part-I"
      ],
      "metadata": {
        "id": "pzVKfASPn6Gp"
      }
    },
    {
      "cell_type": "code",
      "execution_count": 1,
      "metadata": {
        "id": "jhr6wiVGa24R"
      },
      "outputs": [],
      "source": [
        "# Importing required libraries\n",
        "import numpy as np\n",
        "import pandas as pd\n",
        "import matplotlib.pyplot as plt\n",
        "import seaborn as sns"
      ]
    },
    {
      "cell_type": "code",
      "source": [
        "# Setting a different random seed for reproducibility\n",
        "np.random.seed(123456789)"
      ],
      "metadata": {
        "id": "yPH47pnYbHOg"
      },
      "execution_count": 2,
      "outputs": []
    },
    {
      "cell_type": "code",
      "source": [
        "# Generating random sales data for 12 months and 4 categories\n",
        "sales_data = np.random.randint(1000, 5001, size=(12, 4))\n",
        "print(\"Generated sales data (first 3 rows):\\n\", sales_data[:3])"
      ],
      "metadata": {
        "id": "wlcT5S4nbLQ6"
      },
      "execution_count": 3,
      "outputs": [
        {
          "output_type": "stream",
          "name": "stdout",
          "text": [
            "Generated sales data (first 3 rows):\n",
            "[[2732 4603 2711  166]\n",
            " [ 210 3906  937  927]\n",
            " [ 178 4356  776  553]]\n"
          ]
        }
      ]
    },
    {
      "cell_type": "code",
      "source": [
        "# Creating a DataFrame with appropriate column and row labels\n",
        "months = [\"Jan\", \"Feb\", \"Mar\", \"Apr\", \"May\", \"Jun\", \"Jul\", \"Aug\", \"Sep\", \"Oct\", \"Nov\", \"Dec\"]\n",
        "categories = [\"Electronics\", \"Clothing\", \"Home & Kitchen\", \"Sports\"]\n",
        "df = pd.DataFrame(sales_data, columns=categories, index=months)\n",
        "print(\"Monthly sales DataFrame:\\n\")\n",
        "print(df)"
      ],
      "metadata": {
        "id": "3IrBwDb2dGO1"
      },
      "execution_count": 4,
      "outputs": [
        {
          "output_type": "stream",
          "name": "stdout",
          "text": [
            "Monthly sales DataFrame:\n",
            "     Electronics  Clothing  Home & Kitchen  Sports\n",
            "Jan         2732      4603            2711     166\n",
            "Feb          210      3906             937     927\n",
            "Mar          178      4356             776     553\n",
            "Apr         2604      4973            4622    3155\n",
            "May         4427      3701            2364    4847\n",
            "Jun         3885      3619            1981    2832\n",
            "Jul          823      3779             385    4773\n",
            "Aug          763       282             370     420\n",
            "Sep          796       262             420     250\n",
            "Oct          221       724             145     660\n",
            "Nov          324       836             768     813\n",
            "Dec          175       180             181     181\n"
          ]
        }
      ]
    },
    {
      "cell_type": "markdown",
      "source": [
        "Part-II"
      ],
      "metadata": {
        "id": "NFnbmlZ7oA9g"
      }
    },
    {
      "cell_type": "code",
      "source": [
        "# Displaying the first few rows and summary statistics\n",
        "print(\"Preview of the first 5 months:\")\n",
        "display(df.head())\n",
        "print(\"\\nStatistical summary:\")\n",
        "display(df.describe())"
      ],
      "metadata": {
        "id": "FrGB-OUbekED"
      },
      "execution_count": 5,
      "outputs": []
    }
  ]
}
