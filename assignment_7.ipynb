{
  "nbformat": 4,
  "nbformat_minor": 0,
  "metadata": {
    "colab": {
      "provenance": [],
      "authorship_tag": "ABX9TyOkwK952LhaSMeN71BFbQeI",
      "include_colab_link": true
    },
    "kernelspec": {
      "name": "python3",
      "display_name": "Python 3"
    },
    "language_info": {
      "name": "python"
    }
  },
  "cells": [
    {
      "cell_type": "markdown",
      "metadata": {},
      "source": [
        "# Cognitive Computing Assignment 7\n",
        "**Name:** Aditya\n",
        "\n",
        "<a href=\"https://colab.research.google.com/github/aditya-username/cognitive-computing/blob/main/cc_ass7_aditya.ipynb\" target=\"_parent\"><img src=\"https://colab.research.google.com/assets/colab-badge.svg\" alt=\"Open In Colab\"/></a>"
      ]
    },
    {
      "cell_type": "markdown",
      "metadata": {},
      "source": [
        "## Q1: Data Preparation and Summary"
      ]
    },
    {
      "cell_type": "code",
      "metadata": {},
      "execution_count": 1,
      "outputs": [],
      "source": [
        "# Import libraries\n",
        "import numpy as np\n",
        "import pandas as pd\n",
        "import matplotlib.pyplot as plt\n",
        "import seaborn as sns"
      ]
    },
    {
      "cell_type": "code",
      "metadata": {},
      "execution_count": 2,
      "outputs": [],
      "source": [
        "# Set random seed for reproducibility (different from others)\n",
        "np.random.seed(20240505)"
      ]
    },
    {
      "cell_type": "code",
      "metadata": {},
      "execution_count": 3,
      "outputs": [],
      "source": [
        "# Create random sales data for 12 months and 4 categories\n",
        "sales = np.random.randint(1200, 5200, size=(12, 4))\n",
        "months = [\"Jan\", \"Feb\", \"Mar\", \"Apr\", \"May\", \"Jun\", \"Jul\", \"Aug\", \"Sep\", \"Oct\", \"Nov\", \"Dec\"]\n",
        "categories = [\"Electronics\", \"Clothing\", \"Home & Kitchen\", \"Sports\"]\n",
        "df = pd.DataFrame(sales, columns=categories, index=months)\n",
        "df"
      ]
    },
    {
      "cell_type": "markdown",
      "metadata": {},
      "source": [
        "### Part-II: Display first few rows and statistics"
      ]
    },
    {
      "cell_type": "code",
      "metadata": {},
      "execution_count": 4,
      "outputs": [],
      "source": [
        "print(\"First 5 months of sales data:\")\n",
        "display(df.head())\n",
        "print(\"\\nStatistical summary:\")\n",
        "display(df.describe())"
      ]
    },
    {
      "cell_type": "markdown",
      "metadata": {},
      "source": [
        "## Q2: Data Visualization"
      ]
    },
    {
      "cell_type": "code",
      "metadata": {},
      "execution_count": 5,
      "outputs": [],
      "source": [
        "# Line plot of sales for each category over months\n",
        "plt.figure(figsize=(10,6))\n",
        "for col in df.columns:\n",
        "    plt.plot(df.index, df[col], marker='o', label=col)\n",
        "plt.title(\"Monthly Sales by Category\")\n",
        "plt.xlabel(\"Month\")\n",
        "plt.ylabel(\"Sales\")\n",
        "plt.legend()\n",
        "plt.grid(True, linestyle='--', alpha=0.5)\n",
        "plt.tight_layout()\n",
        "plt.show()"
      ]
    },
    {
      "cell_type": "code",
      "metadata": {},
      "execution_count": 6,
      "outputs": [],
      "source": [
        "# Bar plot for total sales per category\n",
        "plt.figure(figsize=(8,5))\n",
        "sns.barplot(x=df.columns, y=df.sum(), palette='viridis')\n",
        "plt.title(\"Total Sales by Category (Year)\")\n",
        "plt.ylabel(\"Total Sales\")\n",
        "plt.xlabel(\"Category\")\n",
        "plt.tight_layout()\n",
        "plt.show()"
      ]
    },
    {
      "cell_type": "markdown",
      "metadata": {},
      "source": [
        "## Q3: Data Manipulation"
      ]
    },
    {
      "cell_type": "code",
      "metadata": {},
      "execution_count": 7,
      "outputs": [],
      "source": [
        "# Add a new column: Total sales per month\n",
        "df['Total'] = df.sum(axis=1)\n",
        "df"
      ]
    },
    {
      "cell_type": "code",
      "metadata": {},
      "execution_count": 8,
      "outputs": [],
      "source": [
        "# Find the month with the highest total sales\n",
        "max_month = df['Total'].idxmax()\n",
        "print(f\"Month with highest total sales: {max_month} ({df.loc[max_month, 'Total']})\")"
      ]
    },
    {
      "cell_type": "code",
      "metadata": {},
      "execution_count": 9,
      "outputs": [],
      "source": [
        "# Calculate average sales for each category\n",
        "category_avgs = df[categories].mean()\n",
        "print(\"Average sales per category:\")\n",
        "print(category_avgs)"
      ]
    },
    {
      "cell_type": "markdown",
      "metadata": {},
      "source": [
        "## Q4: Advanced Analysis"
      ]
    },
    {
      "cell_type": "code",
      "metadata": {},
      "execution_count": 10,
      "outputs": [],
      "source": [
        "# Correlation heatmap between categories\n",
        "plt.figure(figsize=(6,5))\n",
        "sns.heatmap(df[categories].corr(), annot=True, cmap='coolwarm', fmt='.2f')\n",
        "plt.title(\"Correlation between Categories\")\n",
        "plt.tight_layout()\n",
        "plt.show()"
      ]
    },
    {
      "cell_type": "code",
      "metadata": {},
      "execution_count": 11,
      "outputs": [],
      "source": [
        "# Identify which category has the most consistent sales (lowest std deviation)\n",
        "stds = df[categories].std()\n",
        "most_consistent = stds.idxmin()\n",
        "print(f\"Most consistent sales: {most_consistent} (std: {stds[most_consistent]:.2f})\")"
      ]
    },
    {
      "cell_type": "markdown",
      "metadata": {},
      "source": [
        "## Q5: Exporting Data"
      ]
    },
    {
      "cell_type": "code",
      "metadata": {},
      "execution_count": 12,
      "outputs": [],
      "source": [
        "# Save DataFrame to CSV\n",
        "df.to_csv(\"monthly_sales_aditya.csv\")\n",
        "print(\"Data exported to 'monthly_sales_aditya.csv'\")"
      ]
    }
  ]
}
