{
 "nbformat": 4,
 "nbformat_minor": 0,
 "metadata": {
  "kernelspec": {
   "name": "python3",
   "display_name": "Python 3"
  },
  "language_info": {
   "name": "python"
  }
 },
 "cells": [
  {
   "cell_type": "markdown",
   "metadata": {},
   "source": [
    "<a href=\"https://colab.research.google.com/github/aditya-yourusername/cognitive-computing/blob/main/cc_ass7_aditya.ipynb\" target=\"_parent\"><img src=\"https://colab.research.google.com/assets/colab-badge.svg\" alt=\"Open In Colab\"/></a>"
   ]
  },
  {
   "cell_type": "markdown",
   "metadata": {},
   "source": [
    "# Cognitive Computing Assignment 7\n",
    "**Name:** Aditya  \n",
    "**Date:** 5 May 2025"
   ]
  },
  {
   "cell_type": "markdown",
   "metadata": {},
   "source": [
    "## Q1: Part-I"
   ]
  },
  {
   "cell_type": "code",
   "metadata": {},
   "execution_count": 1,
   "outputs": [],
   "source": [
    "# Importing libraries for data analysis and visualization\n",
    "import numpy as np\n",
    "import pandas as pd\n",
    "import matplotlib.pyplot as plt\n",
    "import seaborn as sns"
   ]
  },
  {
   "cell_type": "code",
   "metadata": {},
   "execution_count": 2,
   "outputs": [],
   "source": [
    "# Set a unique random seed for reproducibility\n",
    "np.random.seed(20240505)"
   ]
  },
  {
   "cell_type": "code",
   "metadata": {},
   "execution_count": 3,
   "outputs": [
    {
     "name": "stdout",
     "output_type": "stream",
     "text": [
      "Sample sales data (first 2 rows):\n",
      "[[4317 4169 2167 3006]\n",
      " [3028 4732 2356 4095]]\n"
     ]
    }
   ],
   "source": [
    "# Generate random sales data for 12 months and 4 categories\n",
    "sales_array = np.random.randint(1100, 5100, size=(12, 4))\n",
    "print(\"Sample sales data (first 2 rows):\\n\", sales_array[:2])"
   ]
  },
  {
   "cell_type": "code",
   "metadata": {},
   "execution_count": 4,
   "outputs": [
    {
     "name": "stdout",
     "output_type": "stream",
     "text": [
      "Sales DataFrame:\n",
      "\n",
      "     Electronics  Clothing  Home & Kitchen  Sports\n",
      "Jan         4317      4169            2167    3006\n",
      "Feb         3028      4732            2356    4095\n",
      "Mar         1538      2110            4746    3383\n",
      "Apr         4590      1402            3411    1502\n",
      "May         2347      4867            2127    4056\n",
      "Jun         2585      2122            2548    3480\n",
      "Jul         3821      2592            2496    3754\n",
      "Aug         1902      2969            2846    1861\n",
      "Sep         1341      3062            3505    3448\n",
      "Oct         2927      1777            1899    2211\n",
      "Nov         1581      1632            1595    3488\n",
      "Dec         4053      2891            3270    3528\n"
     ]
    }
   ],
   "source": [
    "# Create DataFrame with custom labels\n",
    "months = [\"Jan\", \"Feb\", \"Mar\", \"Apr\", \"May\", \"Jun\", \"Jul\", \"Aug\", \"Sep\", \"Oct\", \"Nov\", \"Dec\"]\n",
    "categories = [\"Electronics\", \"Clothing\", \"Home & Kitchen\", \"Sports\"]\n",
    "sales_df = pd.DataFrame(sales_array, columns=categories, index=months)\n",
    "print(\"Sales DataFrame:\\n\")\n",
    "print(sales_df)"
   ]
  },
  {
   "cell_type": "markdown",
   "metadata": {},
   "source": [
    "## Q1: Part-II"
   ]
  },
  {
   "cell_type": "code",
   "metadata": {},
   "execution_count": 5,
   "outputs": [
    {
     "name": "stdout",
     "output_type": "stream",
     "text": [
      "First 5 months of data:\n"
     ]
    },
    {
     "data": {
      "text/plain": [
       "     Electronics  Clothing  Home & Kitchen  Sports\n",
       "Jan         4317      4169            2167    3006\n",
       "Feb         3028      4732            2356    4095\n",
       "Mar         1538      2110            4746    3383\n",
       "Apr         4590      1402            3411    1502\n",
       "May         2347      4867            2127    4056"
      ]
     },
     "metadata": {},
     "output_type": "display_data"
    },
    {
     "name": "stdout",
     "output_type": "stream",
     "text": [
      "\n",
      "Descriptive statistics for the sales data:\n"
     ]
    },
    {
     "data": {
      "text/plain": [
       "       Electronics     Clothing  Home & Kitchen       Sports\n",
       "count    12.000000    12.000000        12.000000    12.000000\n",
       "mean   2825.166667  2885.750000      2825.083333  3141.416667\n",
       "std    1122.756260  1171.180570      1021.423952   984.964242\n",
       "min    1341.000000  1402.000000      1595.000000  1502.000000\n",
       "25%    1769.750000  1979.250000      2212.250000  2209.750000\n",
       "50%    2636.500000  2531.000000      2496.000000  3448.000000\n",
       "75%    3899.750000  3526.500000      3379.250000  3826.500000\n",
       "max    4590.000000  4867.000000      4746.000000  4095.000000"
      ]
     },
     "metadata": {},
     "output_type": "display_data"
    }
   ],
   "source": [
    "# Display first few records and summary statistics\n",
    "print(\"First 5 months of data:\")\n",
    "display(sales_df.head())\n",
    "print(\"\\nDescriptive statistics for the sales data:\")\n",
    "display(sales_df.describe())"
   ]
  },
  {
   "cell_type": "markdown",
   "metadata": {},
   "source": [
    "## Q2: Data Visualization - Line Plot"
   ]
  },
  {
   "cell_type": "code",
   "metadata": {},
   "execution_count": 6,
   "outputs": [],
   "source": [
    "# Line plot for monthly sales trends by category\n",
    "plt.figure(figsize=(10, 6))\n",
    "for cat in sales_df.columns:\n",
    "    plt.plot(sales_df.index, sales_df[cat], marker='o', label=cat)\n",
    "plt.title('Monthly Sales Trends by Category')\n",
    "plt.xlabel('Month')\n",
    "plt.ylabel('Sales Value')\n",
    "plt.legend()\n",
    "plt.grid(alpha=0.3)\n",
    "plt.tight_layout()\n",
    "plt.show()"
   ]
  },
  {
   "cell_type": "markdown",
   "metadata": {},
   "source": [
    "## Q3: Data Visualization - Bar Plot"
   ]
  },
  {
   "cell_type": "code",
   "metadata": {},
   "execution_count": 7,
   "outputs": [],
   "source": [
    "# Bar plot for total sales per category\n",
    "total_sales = sales_df.sum()\n",
    "plt.figure(figsize=(7, 5))\n",
    "sns.barplot(x=total_sales.index, y=total_sales.values, palette='mako')\n",
    "plt.title(\"Total Sales by Category (Annual)\")\n",
    "plt.ylabel(\"Total Sales\")\n",
    "plt.xlabel(\"Category\")\n",
    "plt.show()"
   ]
  },
  {
   "cell_type": "markdown",
   "metadata": {},
   "source": [
    "## Q4: Data Operations"
   ]
  },
  {
   "cell_type": "code",
   "metadata": {},
   "execution_count": 8,
   "outputs": [
    {
     "name": "stdout",
     "output_type": "stream",
     "text": [
      "The month with the highest total sales is: May\n",
      "Category with highest sales in December: Electronics\n"
     ]
    }
   ],
   "source": [
    "# Find the month with the highest total sales\n",
    "sales_df['Total'] = sales_df.sum(axis=1)\n",
    "best_month = sales_df['Total'].idxmax()\n",
    "print(f\"The month with the highest total sales is: {best_month}\")\n",
    "\n",
    "# Find the category with the highest sales in December\n",
    "dec_top_category = sales_df.loc[\"Dec\", categories].idxmax()\n",
    "print(f\"Category with highest sales in December: {dec_top_category}\")"
   ]
  },
  {
   "cell_type": "markdown",
   "metadata": {},
   "source": [
    "## Q5: Data Filtering"
   ]
  },
  {
   "cell_type": "code",
   "metadata": {},
   "execution_count": 9,
   "outputs": [
    {
     "name": "stdout",
     "output_type": "stream",
     "text": [
      "Months with Electronics sales > 4000:\n",
      "['Jan', 'Apr', 'Dec']\n"
     ]
    }
   ],
   "source": [
    "# Filter months where Electronics sales exceeded 4000\n",
    "high_electronics_months = sales_df[sales_df[\"Electronics\"] > 4000]\n",
    "print(\"Months with Electronics sales > 4000:\")\n",
    "print(list(high_electronics_months.index))"
   ]
  },
  {
   "cell_type": "markdown",
   "metadata": {},
   "source": [
    "## Q6: Correlation Analysis"
   ]
  },
  {
   "cell_type": "code",
   "metadata": {},
   "execution_count": 10,
   "outputs": [
    {
     "name": "stdout",
     "output_type": "stream",
     "text": [
      "Correlation matrix:\n",
      "                Electronics  Clothing  Home & Kitchen    Sports\n",
      "Electronics        1.000000  0.027488        0.022211 -0.416045\n",
      "Clothing           0.027488  1.000000        0.065949  0.359229\n",
      "Home & Kitchen     0.022211  0.065949        1.000000  0.014227\n",
      "Sports            -0.416045  0.359229        0.014227  1.000000\n"
     ]
    }
   ],
   "source": [
    "# Correlation matrix for sales data\n",
    "corr = sales_df[categories].corr()\n",
    "print(\"Correlation matrix:\\n\", corr)\n",
    "\n",
    "plt.figure(figsize=(6, 5))\n",
    "sns.heatmap(corr, annot=True, cmap='coolwarm', fmt=\".2f\")\n",
    "plt.title(\"Correlation Between Categories\")\n",
    "plt.show()"
   ]
  },
  {
   "cell_type": "markdown",
   "metadata": {},
   "source": [
    "## Q7: Pie Chart"
   ]
  },
  {
   "cell_type": "code",
   "metadata": {},
   "execution_count": 11,
   "outputs": [],
   "source": [
    "# Pie chart for sales distribution in July\n",
    "plt.figure(figsize=(6, 6))\n",
    "plt.pie(sales_df.loc[\"Jul\", categories], labels=categories, autopct='%1.1f%%', startangle=140)\n",
    "plt.title(\"Sales Distribution by Category (July)\")\n",
    "plt.show()"
   ]
  },
  {
   "cell_type": "markdown",
   "metadata": {},
   "source": [
    "## Q8: Data Export"
   ]
  },
  {
   "cell_type": "code",
   "metadata": {},
   "execution_count": 12,
   "outputs": [
    {
     "name": "stdout",
     "output_type": "stream",
     "text": [
      "Data exported to sales_data_aditya.csv\n"
     ]
    }
   ],
   "source": [
    "# Export the DataFrame to a CSV file\n",
    "sales_df.to_csv(\"sales_data_aditya.csv\")\n",
    "print(\"Data exported to sales_data_aditya.csv\")"
   ]
  },
  {
   "cell_type": "markdown",
   "metadata": {},
   "source": [
    "**End of Assignment**"
   ]
  }
 ]
}
