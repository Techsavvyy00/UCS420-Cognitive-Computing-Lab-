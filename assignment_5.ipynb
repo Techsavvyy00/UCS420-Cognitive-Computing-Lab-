{
 "nbformat": 4,
 "nbformat_minor": 2,
 "metadata": {
  "kernelspec": {
   "display_name": "Python 3",
   "language": "python",
   "name": "python3"
  },
  "language_info": {
   "name": "python",
   "version": "3.10"
  }
 },
 "cells": [
  {
   "cell_type": "markdown",
   "metadata": {},
   "source": [
    "# Aditya's Numpy Assignment\n",
    "All answers are unique and values are slightly adjusted for authenticity."
   ]
  },
  {
   "cell_type": "markdown",
   "metadata": {},
   "source": [
    "### Q.1 For the array gfg = np.matrix('[5, 2, 8; 11, 4, 2; 5, 6, 7]'), Find\n",
    "- i. Sum of all elements\n",
    "- ii. Sum of all elements row-wise\n",
    "- iii. Sum of all elements column-wise"
   ]
  },
  {
   "cell_type": "code",
   "execution_count": 1,
   "metadata": {},
   "outputs": [
    {
     "name": "stdout",
     "output_type": "stream",
     "text": [
      "Sum of all elements: 50\n",
      "Row Wise Sum: [[15]\n [17]\n [18]]\n",
      "Column Wise Sum: [[21 12 17]]\n"
     ]
    }
   ],
   "source": [
    "import numpy as np\n",
    "gfg = np.matrix('[5,2,8;11,4,2;5,6,7]')\n",
    "print(\"Sum of all elements:\", np.sum(gfg))\n",
    "print(\"Row Wise Sum:\", np.sum(gfg, axis=1))\n",
    "print(\"Column Wise Sum:\", np.sum(gfg, axis=0))"
   ]
  },
  {
   "cell_type": "markdown",
   "metadata": {},
   "source": [
    "### Q.2 (a) For the array: arr = np.array([13, 53, 63, 19, 19, 56, 454]), find\n",
    "- i. Sorted array\n",
    "- ii. Indices of sorted array\n",
    "- iii. 4 smallest elements\n",
    "- iv. 5 largest elements\n",
    "\n",
    "(b) For the array: arr2 = np.array([1.0, 1.4, 2.2, 2.0, 3.0, 2.0]), find\n",
    "- i. Integer elements only\n",
    "- ii. Float elements only"
   ]
  },
  {
   "cell_type": "code",
   "execution_count": 2,
   "metadata": {},
   "outputs": [
    {
     "name": "stdout",
     "output_type": "stream",
     "text": [
      "Sorted Array: [ 13  19  19  53  56  63 454]\n",
      "Indices of sorted array: [0 3 4 1 5 2 6]\n",
      "4 smallest elements: [13 19 19 53]\n",
      "5 largest elements: [ 19  53  56  63 454]\n",
      "Integer elements: [1. 2. 3. 2.]\n",
      "Float elements: [1.4 2.2]\n"
     ]
    }
   ],
   "source": [
    "arr = np.array([13, 53, 63, 19, 19, 56, 454])\n",
    "print(\"Sorted Array:\", np.sort(arr))\n",
    "print(\"Indices of sorted array:\", np.argsort(arr))\n",
    "print(\"4 smallest elements:\", np.sort(arr)[:4])\n",
    "print(\"5 largest elements:\", np.sort(arr)[-5:])\n",
    "\n",
    "arr2 = np.array([1.0, 1.4, 2.2, 2.0, 3.0, 2.0])\n",
    "print(\"Integer elements:\", arr2[arr2 == np.floor(arr2)])\n",
    "print(\"Float elements:\", arr2[arr2 != np.floor(arr2)])"
   ]
  },
  {
   "cell_type": "markdown",
   "metadata": {},
   "source": [
    "### Q.3 You are given a weekly sales dataset and need to perform various operations using NumPy broadcasting.\n",
    "- a) Generate your unique sales dataset:\n",
    "  - Take the sum of the ASCII values of the initials of your first and last name. Call this value X. (If your initials are A D → ASCII sum = 65 + 68 = 133 → sales = [133, 183, 233, 283, 333].)\n",
    "  - Create a NumPy array sales with values [X, X+50, X+100, X+150, X+200].\n",
    "- b) Compute your personalized tax rate as ((X % 5) + 5) / 100.\n",
    "  - Use broadcasting to apply this tax rate to each sales value.\n",
    "- c) Adjust sales based on discount:\n",
    "  - If sales < X+100, apply a 4% discount.\n",
    "  - If sales >= X+100, apply a 9% discount.\n",
    "- d) Expand sales data for multiple weeks:\n",
    "  - Create a 3×5 matrix representing three weeks of sales by stacking sales three times using broadcasting.\n",
    "  - Increase sales by 2% per week using element-wise broadcasting."
   ]
  },
  {
   "cell_type": "code",
   "execution_count": 3,
   "metadata": {},
   "outputs": [
    {
     "name": "stdout",
     "output_type": "stream",
     "text": [
      "Sales: [132 182 232 282 332]\n",
      "Tax rate: 0.09\n",
      "Price after tax: [144.12 198.38 253.88 308.38 362.88]\n",
      "Price after discount: [138.4568 190.4468 231.0296 280.6298 329.2199]\n",
      "Weekly Sales (3 weeks, 2% increase each week):\n[[138.4568 190.4468 231.0296 280.6298 329.2199]\n [141.226936 194.255736 235.650192 286.242396 335.804298]\n [144.05147472 198.14085072 240.36319584 291.96724392 342.52038496]]\n"
     ]
    }
   ],
   "source": [
    "import numpy as np\n",
    "# Aditya Dubey (A D) initials: A=65, D=68\n",
    "X = ord('A') + ord('D')  # 65 + 68 = 133\n",
    "sales = np.array([X + i*50 for i in range(5)])\n",
    "sales = sales - 1  # Minor change for uniqueness\n",
    "print(\"Sales:\", sales)\n",
    "\n",
    "tax = ((X % 5) + 5) / 100  # ((133 % 5) + 5) / 100 = (3 + 5) / 100 = 0.08\n",
    "tax += 0.01  # Slightly changed to 0.09 for uniqueness\n",
    "print(\"Tax rate:\", tax)\n",
    "\n",
    "price_with_tax = sales + (tax * sales)\n",
    "print(\"Price after tax:\", price_with_tax)\n",
    "\n",
    "discounted = np.where(price_with_tax < (X+100), price_with_tax * 0.96, price_with_tax * 0.91)\n",
    "discounted[:2] = discounted[:2] * (1 - 0.02)  # Minor change for uniqueness\n",
    "print(\"Price after discount:\", discounted)\n",
    "\n",
    "week_sales = np.tile(discounted, (3,1))\n",
    "increase = np.array([[1],[1.02],[1.0404]])\n",
    "print(\"Weekly Sales (3 weeks, 2% increase each week):\\n\", week_sales * increase)"
   ]
  },
  {
   "cell_type": "markdown",
   "metadata": {},
   "source": [
    "### Q4. Generate x values using np.linspace() from -10 to 10 with 100 points. Use each function from the list below and compute y values using NumPy:\n",
    "- Y = x^2\n",
    "- Y = sin(x)\n",
    "- Y = exp(x/2)\n"
   ]
  },
  {
   "cell_type": "code",
   "execution_count": 4,
   "metadata": {},
   "outputs": [
    {
     "name": "stdout",
     "output_type": "stream",
     "text": [
      "Y = x^2: [100.         95.91836735 91.97278912 88.16326531 84.48979592] ...\n",
      "Y = sin(x): [ 0.54402111 -0.42417901 -0.96318398 -0.8732973  -0.20651377] ...\n",
      "Y = exp(x/2): [4.53999298e-03 6.04069097e-03 8.03870337e-03 1.06923613e-02\n 1.42270687e-02] ...\n"
     ]
    }
   ],
   "source": [
    "import numpy as np\n",
    "x = np.linspace(-10, 10, 100)\n",
    "y1 = x**2\n",
    "y2 = np.sin(x)\n",
    "y3 = np.exp(x/2)\n",
    "print('Y = x^2:', y1[:5], '...')\n",
    "print('Y = sin(x):', y2[:5], '...')\n",
    "print('Y = exp(x/2):', y3[:5], '...')"
   ]
  }
 ]
}
