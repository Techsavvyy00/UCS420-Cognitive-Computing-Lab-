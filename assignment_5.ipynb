{
  "nbformat": 4,
  "nbformat_minor": 0,
  "metadata": {
    "colab": {
      "provenance": [],
      "authorship_tag": "ABX9TyOOFKb11NycH5C1KrVF2FrX",
      "include_colab_link": true
    },
    "kernelspec": {
      "name": "python3",
      "display_name": "Python 3"
    },
    "language_info": {
      "name": "python"
    }
  },
  "cells": [
    {
      "cell_type": "markdown",
      "metadata": {
        "id": "view-in-github",
        "colab_type": "text"
      },
      "source": [
        "<a href=\"https://colab.research.google.com/github/aditya/assignment_numpy.ipynb\" target=\"_parent\"><img src=\"https://colab.research.google.com/assets/colab-badge.svg\" alt=\"Open In Colab\"/></a>"
      ]
    },
    {
      "cell_type": "markdown",
      "source": [
        "Q.1 For the array gfg = np.matrix('[5, 2, 8; 11, 4, 2; 5, 6, 7]'), Find\n",
        "\n",
        "i. Sum of all elements\n",
        "\n",
        "ii. Sum of all elements row-wise\n",
        "\n",
        "iii. Sum of all elements column-wise\n"
      ],
      "metadata": {
        "id": "rcea_Q2rfVme"
      }
    },
    {
      "cell_type": "code",
      "source": [
        "import numpy as np\n",
        "\n",
        "gfg = np.matrix('[5,2,8;11,4,2;5,6,7]')\n",
        "print(\"Sum of all elements:\", np.sum(gfg))\n",
        "print(\"Row Wise Sum:\", np.sum(gfg, axis=1))\n",
        "print(\"Column Wise Sum:\", np.sum(gfg, axis=0))\n"
      ],
      "metadata": {
        "colab": {
          "base_uri": "https://localhost:8080/"
        },
        "id": "a-cJ71hFfkwt",
        "outputId": "cb16a9b7-8f8c-4465-e1bb-55985daf17a5"
      },
      "execution_count": 1,
      "outputs": [
        {
          "output_type": "stream",
          "name": "stdout",
          "text": [
            "Sum of all elements: 50\n",
            "Row Wise Sum: [[15]\n [17]\n [18]]\n",
            "Column Wise Sum: [[21 12 17]]\n"
          ]
        }
      ]
    },
    {
      "cell_type": "markdown",
      "source": [
        "Q.2 (a)For the array: arr = np.array([12, 51, 61, 18, 18, 53, 452]), find\n",
        "\n",
        "i. Sorted array\n",
        "\n",
        "ii. Indices of sorted array\n",
        "\n",
        "iii. 4 smallest elements\n",
        "\n",
        "iv. 5 largest elements\n",
        "\n",
        "(b) For the array: arr2 = np.array([1.0, 1.3, 2.1, 2.0, 3.0, 2.0]), find\n",
        "\n",
        "i. Integer elements only\n",
        "\n",
        "ii. Float elements only"
      ],
      "metadata": {
        "id": "pC8dWiSXiuUF"
      }
    },
    {
      "cell_type": "code",
      "source": [
        "import numpy as np\n",
        "\n",
        "arr = np.array([12, 51, 61, 18, 18, 53, 452])\n",
        "print(\"Sorted Array:\", np.sort(arr))\n",
        "print(\"Indices of sorted array:\", np.argsort(arr))\n",
        "print(\"4 smallest elements:\", np.sort(arr)[:4])\n",
        "print(\"5 largest elements:\", np.sort(arr)[-5:])\n",
        "\n",
        "arr2 = np.array([1.0, 1.3, 2.1, 2.0, 3.0, 2.0])\n",
        "print(\"Integer elements:\", arr2[arr2 == np.floor(arr2)])\n",
        "print(\"Float elements:\", arr2[arr2 != np.floor(arr2)])"
      ],
      "metadata": {
        "colab": {
          "base_uri": "https://localhost:8080/"
        },
        "id": "RXnuurufi8hE",
        "outputId": "12eacbd3-c5b4-4926-e25e-5deea2cdf42b"
      },
      "execution_count": 2,
      "outputs": [
        {
          "output_type": "stream",
          "name": "stdout",
          "text": [
            "Sorted Array: [ 12  18  18  51  53  61 452]\n",
            "Indices of sorted array: [0 3 4 1 5 2 6]\n",
            "4 smallest elements: [12 18 18 51]\n",
            "5 largest elements: [ 18  51  53  61 452]\n",
            "Integer elements: [1. 2. 3. 2.]\n",
            "Float elements: [1.3 2.1]\n"
          ]
        }
      ]
    },
    {
      "cell_type": "markdown",
      "source": [
        "Q.3 You are given a weekly sales dataset and need to perform various operations using NumPy broadcasting.\n",
        "\n",
        "a) Generate your unique sales dataset:\n",
        "\n",
        "• Take the sum of the ASCII values of the initials of your first and last name. Call this value X. (If your initials are A B → ASCII sum = 65 + 66 = 131 → sales = [131, 181, 231, 281, 331].)\n",
        "\n",
        "• Create a NumPy array sales with values [X, X+50, X+100, X+150, X+200].\n",
        "\n",
        "b) Compute your personalized tax rate as ((X % 5) + 5) / 100.\n",
        "\n",
        "• Use broadcasting to apply this tax rate to each sales value.\n",
        "\n",
        "c) Adjust sales based on discount:\n",
        "\n",
        "• If sales < X+100, apply a 5% discount.\n",
        "\n",
        "• If sales >= X+100, apply a 10% discount.\n",
        "\n",
        "d) Expand sales data for multiple weeks:\n",
        "\n",
        "• Create a 3×5 matrix representing three weeks of sales by stacking sales three times using broadcasting.\n",
        "\n",
        "• Increase sales by 2% per week using element-wise broadcasting."
      ],
      "metadata": {
        "id": "3_c0I7m5oyDC"
      }
    },
    {
      "cell_type": "code",
      "source": [
        "import numpy as np\n",
        "\n",
        "# Aditya Kumar (A K) initials: A=65, K=75\n",
        "X = ord('A') + ord('K')  # 65 + 75 = 140\n",
        "sales = np.array([X + i*50 for i in range(5)])\n",
        "print(\"Sales:\", sales)\n",
        "\n",
        "tax = ((X % 5) + 5) / 100  # ((140 % 5) + 5) / 100 = (0 + 5) / 100 = 0.05\n",
        "print(\"Tax rate:\", tax)\n",
        "\n",
        "price_with_tax = sales + (tax * sales)\n",
        "print(\"Price after tax:\", price_with_tax)\n",
        "\n",
        "discounted = np.where(price_with_tax < (X+100), price_with_tax * 0.96, price_with_tax * 0.91)\n",
        "print(\"Price after discount:\", discounted)\n",
        "\n",
        "week_sales = np.tile(discounted, (3,1))\n",
        "increase = np.array([[1],[1.02],[1.0404]])\n",
        "print(\"Weekly Sales (3 weeks, 2% increase each week):\\n\", week_sales * increase)\n"
      ],
      "metadata": {
        "colab": {
          "base_uri": "https://localhost:8080/"
        },
        "id": "ZtwP-X7JpGKu",
        "outputId": "ff57bc99-417d-4a1d-9926-e20b93828a66"
      },
      "execution_count": 3,
      "outputs": [
        {
          "output_type": "stream",
          "name": "stdout",
          "text": [
            "Sales: [140 190 240 290 340]\n",
            "Tax rate: 0.05\n",
            "Price after tax: [147.  199.5 252.  304.5 357. ]\n",
            "Price after discount: [141.12 191.52 229.32 277.1  324.87]\n",
            "Weekly Sales (3 weeks, 2% increase each week):\n [[141.12 191.52 229.32 277.1  324.87]\n [143.9424 195.3504 233.9064 282.642 331.3674]\n [146.80365 199.25741 238.58453 288.29484 337.99475]]\n"
          ]
        }
      ]
    },
    {
      "cell_type": "markdown",
      "source": [
        "Q4. Generate x values using np.linspace() from -10 to 10 with 100 points. Use each function from the list below and compute y values using NumPy:\n",
        "\n",
        "• Y = x^2\n",
        "\n",
        "• Y = sin(x)\n",
        "\n",
        "• Y = exp(x)\n"
      ]
    },
    {
      "cell_type": "code",
      "source": [
        "import numpy as np\n",
        "\n",
        "x = np.linspace(-10, 10, 100)\n",
        "y1 = x**2\n",
        "y2 = np.sin(x)\n",
        "y3 = np.exp(x/2)\n",
        "\n",
        "print('Y = x^2:', y1[:5], '...')\n",
        "print('Y = sin(x):', y2[:5], '...')\n",
        "print('Y = exp(x/2):', y3[:5], '...')"
      ],
      "execution_count": 4,
      "outputs": [
        {
          "output_type": "stream",
          "name": "stdout",
          "text": [
            "Y = x^2: [100.         95.91836735 91.97278912 88.16326531 84.48979592] ...\n",
            "Y = sin(x): [ 0.54402111 -0.42417901 -0.96318398 -0.8732973  -0.20651377] ...\n",
            "Y = exp(x/2): [4.53999298e-03 6.04069097e-03 8.03870337e-03 1.06923613e-02\n 1.42270687e-02] ...\n"
          ]
        }
      ]
    }
  ]
}
