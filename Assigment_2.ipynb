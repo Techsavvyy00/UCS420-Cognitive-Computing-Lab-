{
  "cells": [
    {
      "cell_type": "markdown",
      "metadata": {
        "id": "RaV3_FM0VzDj"
      },
      "source": [
        "# Question 1"
      ]
    },
    {
      "cell_type": "code",
      "execution_count": null,
      "metadata": {
        "id": "veI8E6oCTq49"
      },
      "outputs": [],
      "source": [
        "l = [10,20,30,40,50,60,70,80]"
      ]
    },
    {
      "cell_type": "code",
      "execution_count": null,
      "metadata": {
        "colab": {
          "base_uri": "https://localhost:8080/"
        },
        "id": "gHk0GBvYUjZG",
        "outputId": "98e9f729-b602-489b-8d25-b54b54ffb8b3"
      },
      "outputs": [
        {
          "name": "stdout",
          "output_type": "stream",
          "text": [
            "[10, 20, 30, 40, 50, 60, 70, 80, 200, 300]\n"
          ]
        }
      ],
      "source": [
        "l.append(200)\n",
        "l.append(300)\n",
        "print(l)"
      ]
    },
    {
      "cell_type": "code",
      "execution_count": null,
      "metadata": {
        "colab": {
          "base_uri": "https://localhost:8080/"
        },
        "id": "V3mYidCuU7Cv",
        "outputId": "5d1dc1db-de9c-4aec-98fb-1094da27aab3"
      },
      "outputs": [
        {
          "name": "stdout",
          "output_type": "stream",
          "text": [
            "[20, 40, 50, 60, 70, 80, 200, 300]\n"
          ]
        }
      ],
      "source": [
        "l.remove(10)\n",
        "l.remove(30)\n",
        "print(l)"
      ]
    },
    {
      "cell_type": "code",
      "execution_count": null,
      "metadata": {
        "colab": {
          "base_uri": "https://localhost:8080/"
        },
        "id": "4UgvIATkVLc_",
        "outputId": "75c5d718-cd21-4de7-c308-bb37e1a834f6"
      },
      "outputs": [
        {
          "name": "stdout",
          "output_type": "stream",
          "text": [
            "[20, 40, 50, 60, 70, 80, 200, 300]\n",
            "[300, 200, 80, 70, 60, 50, 40, 20]\n"
          ]
        }
      ],
      "source": [
        "l.sort(reverse = False)\n",
        "print(l)\n",
        "l.sort(reverse=True)\n",
        "print(l)\n"
      ]
    },
    {
      "cell_type": "markdown",
      "metadata": {
        "id": "kKlR3y5bV2f7"
      },
      "source": [
        "# Question 2"
      ]
    },
    {
      "cell_type": "code",
      "execution_count": null,
      "metadata": {
        "id": "ZIyph1SwVyI7"
      },
      "outputs": [],
      "source": [
        "data = (45,89.5,76,45.4,89,92,58,45)"
      ]
    },
    {
      "cell_type": "code",
      "execution_count": null,
      "metadata": {
        "colab": {
          "base_uri": "https://localhost:8080/"
        },
        "id": "K4pEYTQLWOZP",
        "outputId": "c43f1789-261d-423e-84ea-037f5f0bcddd"
      },
      "outputs": [
        {
          "output_type": "stream",
          "name": "stdout",
          "text": [
            "maximum value in tuple is 92 at 5\n"
          ]
        }
      ],
      "source": [
        "max_value = max(data)\n",
        "index = data.index(max_value)\n",
        "print(f\"maximum value in tuple is {max_value} at {index}\")\n"
      ]
    },
    {
      "cell_type": "code",
      "execution_count": null,
      "metadata": {
        "colab": {
          "base_uri": "https://localhost:8080/"
        },
        "id": "wOI2_oTQXGRP",
        "outputId": "b8a50bd3-a13e-4153-bd8a-f5ca9dc9bac8"
      },
      "outputs": [
        {
          "output_type": "stream",
          "name": "stdout",
          "text": [
            "minimum value in tuple is 45 and count is  2\n"
          ]
        }
      ],
      "source": [
        "min_value = min(data)\n",
        "index = data.count(min_value)\n",
        "print(f\"minimum value in tuple is {min_value} and count is  {index}\")"
      ]
    },
    {
      "cell_type": "code",
      "execution_count": null,
      "metadata": {
        "colab": {
          "base_uri": "https://localhost:8080/"
        },
        "id": "XOgzNPB3ZWFE",
        "outputId": "bece89d7-64af-404a-cdba-f1222094ff8a"
      },
      "outputs": [
        {
          "output_type": "stream",
          "name": "stdout",
          "text": [
            "reverse order is [45, 58, 92, 89, 45.4, 76, 89.5, 45]\n"
          ]
        }
      ],
      "source": [
        "def reverse(data):\n",
        "  reversing = data[::-1]\n",
        "  return list(reversing)\n",
        "\n",
        "print(f\"reverse order is {reverse(data)}\")"
      ]
    },
    {
      "cell_type": "code",
      "source": [
        "num = int(input(\"enter any number = \"))\n",
        "if(num in data):\n",
        "  data_list = list(data)\n",
        "  data_list.remove(num)\n",
        "  data = tuple(data_list)\n",
        "  print(f\"{num} is removed\")\n",
        "else:\n",
        "  print(\"not found\")"
      ],
      "metadata": {
        "colab": {
          "base_uri": "https://localhost:8080/"
        },
        "id": "m6xpCO-oEH_7",
        "outputId": "87cdd0f3-888d-432c-a1b1-3f6b5ea6a746"
      },
      "execution_count": null,
      "outputs": [
        {
          "output_type": "stream",
          "name": "stdout",
          "text": [
            "enter any number = 45\n",
            "45 is removed\n"
          ]
        }
      ]
    },
    {
      "cell_type": "markdown",
      "source": [
        "# Question 3"
      ],
      "metadata": {
        "id": "J5kfZs6aDBTz"
      }
    },
    {
      "cell_type": "code",
      "execution_count": null,
      "metadata": {
        "id": "J04IEZ0IZYHr"
      },
      "outputs": [],
      "source": [
        "import random as r"
      ]
    },
    {
      "cell_type": "code",
      "source": [
        "rand_numb = [r.randint(100,900) for i in range(100)]\n",
        "rand_numb.sort(reverse=False)\n",
        "rand_number = rand_numb\n",
        "\n",
        "print(f\"original list = {rand_number}\")\n",
        "def isprime(n):\n",
        "    for i in range(100,n):\n",
        "      if(n%i==0):\n",
        "        return True\n",
        "    return False\n",
        "\n",
        "prime_number = [r for r in rand_number if( isprime(r) )]\n",
        "print(f\"no. of prime number are {len(prime_number)}\\nprime numbers = {prime_number}\")\n",
        "\n",
        "even_number = [r for r in rand_number if( r%2 == 0 )]\n",
        "print(f\"no. of even number are {len(even_number)}\\neven numbers = {even_number}\")\n",
        "\n",
        "odd_number = [r for r in rand_number if( r%2 != 0 )]\n",
        "print(f\"no. of odd number are {len(odd_number)}\\nodd numbers = {even_number}\")"
      ],
      "metadata": {
        "colab": {
          "base_uri": "https://localhost:8080/"
        },
        "id": "iTORkcibDKX6",
        "outputId": "47a7770f-7a22-4313-dbe7-ea735293caa7"
      },
      "execution_count": null,
      "outputs": [
        {
          "output_type": "stream",
          "name": "stdout",
          "text": [
            "orginal list = [104, 104, 121, 135, 146, 148, 148, 155, 158, 162, 184, 189, 195, 206, 213, 213, 214, 221, 221, 237, 240, 243, 245, 254, 273, 288, 304, 309, 311, 320, 323, 324, 328, 329, 332, 334, 341, 351, 356, 364, 368, 377, 384, 390, 398, 406, 412, 420, 420, 444, 462, 464, 487, 494, 495, 509, 515, 515, 530, 544, 545, 586, 592, 593, 593, 606, 609, 637, 639, 645, 658, 666, 673, 694, 696, 700, 704, 721, 745, 745, 755, 759, 784, 784, 796, 798, 809, 813, 815, 820, 834, 834, 851, 862, 867, 880, 887, 888, 889, 899]\n",
            "no. of prime number are 64\n",
            "prime numbers = [206, 214, 240, 254, 288, 304, 309, 320, 324, 328, 332, 334, 351, 356, 364, 368, 384, 390, 398, 406, 412, 420, 420, 444, 462, 464, 494, 495, 515, 515, 530, 544, 545, 586, 592, 606, 609, 639, 645, 658, 666, 694, 696, 700, 704, 721, 745, 745, 755, 759, 784, 784, 796, 798, 813, 815, 820, 834, 834, 862, 867, 880, 888, 889]\n",
            "no. of even number are 54\n",
            "even numbers = [104, 104, 146, 148, 148, 158, 162, 184, 206, 214, 240, 254, 288, 304, 320, 324, 328, 332, 334, 356, 364, 368, 384, 390, 398, 406, 412, 420, 420, 444, 462, 464, 494, 530, 544, 586, 592, 606, 658, 666, 694, 696, 700, 704, 784, 784, 796, 798, 820, 834, 834, 862, 880, 888]\n",
            "no. of odd number are 46\n",
            "odd numbers = [104, 104, 146, 148, 148, 158, 162, 184, 206, 214, 240, 254, 288, 304, 320, 324, 328, 332, 334, 356, 364, 368, 384, 390, 398, 406, 412, 420, 420, 444, 462, 464, 494, 530, 544, 586, 592, 606, 658, 666, 694, 696, 700, 704, 784, 784, 796, 798, 820, 834, 834, 862, 880, 888]\n"
          ]
        }
      ]
    },
    {
      "cell_type": "markdown",
      "source": [
        "# Question 4"
      ],
      "metadata": {
        "id": "cBD5afpX27EH"
      }
    },
    {
      "cell_type": "code",
      "source": [
        "a = {34,56,78,90}\n",
        "b = {78,45,90,23}"
      ],
      "metadata": {
        "id": "i18g-TaL2_KG"
      },
      "execution_count": null,
      "outputs": []
    },
    {
      "cell_type": "code",
      "source": [
        "s = a.union(b)\n",
        "print(s)"
      ],
      "metadata": {
        "colab": {
          "base_uri": "https://localhost:8080/"
        },
        "id": "npPW-Meo4siY",
        "outputId": "d0920dd0-330e-442c-8794-4a9a0e3c2782"
      },
      "execution_count": null,
      "outputs": [
        {
          "output_type": "stream",
          "name": "stdout",
          "text": [
            "{34, 45, 78, 23, 56, 90}\n"
          ]
        }
      ]
    },
    {
      "cell_type": "code",
      "source": [
        "s = a.intersection(b)\n",
        "print(s)"
      ],
      "metadata": {
        "colab": {
          "base_uri": "https://localhost:8080/"
        },
        "id": "k9rcxc3T5xLZ",
        "outputId": "2695ccca-12d9-46f3-cdd0-9de078962d4a"
      },
      "execution_count": null,
      "outputs": [
        {
          "output_type": "stream",
          "name": "stdout",
          "text": [
            "{90, 78}\n"
          ]
        }
      ]
    },
    {
      "cell_type": "code",
      "source": [
        "s = a.symmetric_difference(b)\n",
        "print(s)"
      ],
      "metadata": {
        "colab": {
          "base_uri": "https://localhost:8080/"
        },
        "id": "1xZJIO0X56nG",
        "outputId": "c6d802b5-8bb4-414a-8b09-16031d892d73"
      },
      "execution_count": null,
      "outputs": [
        {
          "output_type": "stream",
          "name": "stdout",
          "text": [
            "{34, 45, 23, 56}\n"
          ]
        }
      ]
    },
    {
      "cell_type": "code",
      "source": [
        "print(f\"a is a subset of b = {a.issubset(b)}\")\n",
        "print(f\"b is a subset of a = {b.issubset(a)}\\n\")\n",
        "\n",
        "print(f\"a is a superset of b = {a.issuperset(b)}\")\n",
        "print(f\"b is a superset of a = {b.issuperset(a)}\")"
      ],
      "metadata": {
        "colab": {
          "base_uri": "https://localhost:8080/"
        },
        "id": "bVT3yBe56Hw_",
        "outputId": "8b8cb541-92dd-40af-f4c6-eef519923ae6"
      },
      "execution_count": null,
      "outputs": [
        {
          "output_type": "stream",
          "name": "stdout",
          "text": [
            "a is a subset of b = False\n",
            "b is a subset of a = False\n",
            "\n",
            "a is a superset of b = False\n",
            "b is a superset of a = False\n"
          ]
        }
      ]
    },
    {
      "cell_type": "code",
      "source": [
        "a = {34,56,78,90}\n",
        "num = int(input(\"enter any number = \"))\n",
        "if num in a:\n",
        "  a.remove(num)\n",
        "  print(a)\n",
        "else:\n",
        "  print(\"no found\")"
      ],
      "metadata": {
        "colab": {
          "base_uri": "https://localhost:8080/"
        },
        "id": "xbek7RgE_O6b",
        "outputId": "bfd7edba-d88a-4013-8d5b-78f4f28fe3db"
      },
      "execution_count": null,
      "outputs": [
        {
          "output_type": "stream",
          "name": "stdout",
          "text": [
            "enter any number = 5\n",
            "no found\n"
          ]
        }
      ]
    },
    {
      "cell_type": "markdown",
      "source": [
        "# Question 5"
      ],
      "metadata": {
        "id": "A6qZ_2lXCMtF"
      }
    },
    {
      "cell_type": "code",
      "source": [
        "sample_dic = {\n",
        "    \"name\":\"kelly\",\n",
        "    \"age\":25,\n",
        "    \"salary\": 8000,\n",
        "    \"city\":\"new york\"\n",
        "}\n",
        "print(f\"original is {sample_dic}\")\n",
        "\n",
        "# for keys in sample_dic:\n",
        "#   if(keys == \"city\"):\n",
        "#     keys = \"location\"\n",
        "\n",
        "sample_dic[\"location\"] = sample_dic.pop(\"city\")\n",
        "print(f\"after replace city to location is {sample_dic}\")"
      ],
      "metadata": {
        "colab": {
          "base_uri": "https://localhost:8080/"
        },
        "id": "pjf4swLaCQ3_",
        "outputId": "1057b21c-1152-4e30-9d50-f12b27d80039"
      },
      "execution_count": null,
      "outputs": [
        {
          "output_type": "stream",
          "name": "stdout",
          "text": [
            "original is {'name': 'kelly', 'age': 25, 'salary': 8000, 'city': 'new york'}\n",
            "after replace city to location is {'name': 'kelly', 'age': 25, 'salary': 8000, 'location': 'new york'}\n"
          ]
        }
      ]
    }
  ],
  "metadata": {
    "colab": {
      "provenance": []
    },
    "kernelspec": {
      "display_name": "Python 3",
      "name": "python3"
    },
    "language_info": {
      "name": "python"
    }
  },
  "nbformat": 4,
  "nbformat_minor": 0
}