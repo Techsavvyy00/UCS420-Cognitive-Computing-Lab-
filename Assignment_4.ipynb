{
 "cells": [
  {
   "cell_type": "markdown",
   "metadata": {},
   "source": [
    "Q.1 Write a program to create a NumPy 1D-array with 5 elements and perform basic operations like:\n",
    "a) Addition of 2 in all the elements  \n",
    "b) Multiply 3 with all the elements \n",
    "c) Divide every element by 2 "
   ]
  },
  {
   "cell_type": "code",
   "execution_count": 1,
   "metadata": {},
   "outputs": [
    {
     "name": "stdout",
     "output_type": "stream",
     "text": [
      "Array + 2 :  [16 27 38 49 60]\n",
      "Array * 3 :  [ 42  75 108 141 174]\n",
      "Array / 2 :  [ 7.  12.5 18.  23.5 29. ]\n"
     ]
    }
   ],
   "source": [
    "import numpy as np\n",
    "a = np.array([14, 25, 36, 47, 58])\n",
    "print('Array + 2 : ', a + 2)\n",
    "print('Array * 3 : ', a * 3)\n",
    "print('Array / 2 : ', a / 2)"
   ]
  },
  {
   "cell_type": "markdown",
   "metadata": {},
   "source": [
    "Q.2 Questions on Basic NumPy Array: \n",
    "a) Reverse the NumPy array: arr = np.array([2, 3, 4, 8, 5, 6]) \n",
    "b) Find the most frequent value and their indice(s) in the following arrays: \n",
    "i. x = np.array([2,3,4,5,6,2,3,2,2,2]) \n",
    "ii. y = np.array([2, 2, 2, 3, 4, 5, 3, 5, 4, 4])"
   ]
  },
  {
   "cell_type": "code",
   "execution_count": 2,
   "metadata": {},
   "outputs": [
    {
     "name": "stdout",
     "output_type": "stream",
     "text": [
      "Reversed: [6 5 8 4 3 2]\n",
      "In X:\n",
      "Most Frequent:  2\n",
      "Indices:  [0 5 7 8 9]\n",
      "\n",
      "In Y:\n",
      "Most Frequent:  2\n",
      "Indices:  [0 1 2]\n"
     ]
    }
   ],
   "source": [
    "import numpy as np\n",
    "arr = np.array([2, 3, 4, 8, 5, 6])\n",
    "rev = arr[::-1]\n",
    "print('Reversed:', rev)\n",
    "\n",
    "x = np.array([2,3,4,5,6,2,3,2,2,2])\n",
    "y = np.array([2,2,2,3,4,5,3,5,4,4])\n",
    "\n",
    "max_x = np.bincount(x).argmax()\n",
    "max_y = np.bincount(y).argmax()\n",
    "\n",
    "indices_x = np.where(x == max_x)[0]\n",
    "indices_y = np.where(y == max_y)[0]\n",
    "print('In X:')\n",
    "print('Most Frequent: ', max_x)\n",
    "print('Indices: ', indices_x)\n",
    "print()\n",
    "print('In Y:')\n",
    "print('Most Frequent: ', max_y)\n",
    "print('Indices: ', indices_y)"
   ]
  },
  {
   "cell_type": "markdown",
   "metadata": {},
   "source": [
    "Q.3 For the given 2-D array arr=np.array([[15, 25, 35], [45, 55, 65], [75, 85, 95]]), access elements using row and column indices as follows: \n",
    "a) Access 1st row, 2nd column  \n",
    "b) Access 3rd row, 1st column"
   ]
  },
  {
   "cell_type": "code",
   "execution_count": 3,
   "metadata": {},
   "outputs": [
    {
     "name": "stdout",
     "output_type": "stream",
     "text": [
      "25\n",
      "75\n"
     ]
    }
   ],
   "source": [
    "import numpy as np\n",
    "arr = np.array([[15, 25, 35],\n",
    "               [45, 55, 65],\n",
    "               [75, 85, 95]])\n",
    "print(arr[0][1])\n",
    "print(arr[2][0])"
   ]
  },
  {
   "cell_type": "markdown",
   "metadata": {},
   "source": [
    "Q.4 Write program to create an 1-D NumPy array named aditya_array with evenly spaced 25 numbers from 12 to 102 using linspace(). Print the dimensions of the array, shape, total elements, the data type of each element and total number of bytes consumed by the array. Find the transpose of this array using reshape() attribute. Can we do the same with T attribute? "
   ]
  },
  {
   "cell_type": "code",
   "execution_count": 4,
   "metadata": {},
   "outputs": [
    {
     "name": "stdout",
     "output_type": "stream",
     "text": [
      "Array: [ 12.   15.75 19.5  23.25 27.   30.75 34.5  38.25 42.   45.75 49.5  53.25 57.  60.75 64.5  68.25 72.  75.75 79.5  83.25 87.  90.75 94.5  98.25 102.  ]\n",
      "Dimension:  1\n",
      "Shape : (25,)\n",
      "Number of elements: 25\n",
      "Data Type: float64\n",
      "Total bytes:  200\n",
      "Using reshape:\n",
      "[[ 12.  ]\n",
      " [ 15.75]\n",
      " [ 19.5 ]\n",
      " [ 23.25]\n",
      " [ 27.  ]\n",
      " [ 30.75]\n",
      " [ 34.5 ]\n",
      " [ 38.25]\n",
      " [ 42.  ]\n",
      " [ 45.75]\n",
      " [ 49.5 ]\n",
      " [ 53.25]\n",
      " [ 57.  ]\n",
      " [ 60.75]\n",
      " [ 64.5 ]\n",
      " [ 68.25]\n",
      " [ 72.  ]\n",
      " [ 75.75]\n",
      " [ 79.5 ]\n",
      " [ 83.25]\n",
      " [ 87.  ]\n",
      " [ 90.75]\n",
      " [ 94.5 ]\n",
      " [ 98.25]\n",
      " [102.  ]]\n",
      "Using T:\n",
      "[ 12.    15.75  19.5   23.25  27.    30.75  34.5   38.25  42.    45.75\n",
      "  49.5   53.25  57.    60.75  64.5   68.25  72.    75.75  79.5   83.25\n",
      "  87.    90.75  94.5   98.25 102.  ]\n",
      "T attribute does not transpose 1D arrays\n"
     ]
    }
   ],
   "source": [
    "import numpy as np\n",
    "aditya_array = np.linspace(12, 102, 25)\n",
    "print('Array:', aditya_array)\n",
    "print('Dimension: ', aditya_array.ndim)\n",
    "print('Shape :', aditya_array.shape)\n",
    "print('Number of elements:', aditya_array.size)\n",
    "print('Data Type:', aditya_array.dtype)\n",
    "print('Total bytes: ', aditya_array.nbytes)\n",
    "aditya_array_reshaped = aditya_array.reshape(25, 1)\n",
    "print('Using reshape:')\n",
    "print(aditya_array_reshaped)\n",
    "print('Using T:')\n",
    "print(aditya_array.T)\n",
    "print('T attribute does not transpose 1D arrays')"
   ]
  },
  {
   "cell_type": "markdown",
   "metadata": {},
   "source": [
    "Q5. Create a 2-D Array of three rows and four columns, named ucs420_aditya with following values – 12, 22, 32, 42, 52, 62, 72, 82, 92, 17, 22, 37. Compute the mean, median, max, min, unique elements. Reshape the array to four rows and three columns and name it as reshaped_ucs420_aditya. Resize the array to two rows and three columns and name it as resized_ucs420_aditya."
   ]
  },
  {
   "cell_type": "code",
   "execution_count": 5,
   "metadata": {},
   "outputs": [
    {
     "name": "stdout",
     "output_type": "stream",
     "text": [
      "[[12 22 32 42]\n",
      " [52 62 72 82]\n",
      " [92 17 22 37]]\n",
      "Mean :  46.5\n",
      "Median :  37.0\n",
      "Max :  92\n",
      "Min :  12\n",
      "Unique elements:  [12 17 22 32 37 42 52 62 72 82 92]\n",
      "\n",
      "Reshaped:\n",
      "[[12 22 32]\n",
      " [42 52 62]\n",
      " [72 82 92]\n",
      " [17 22 37]]\n",
      "\n",
      "Resized:\n",
      "[[12 22 32]\n",
      " [42 52 62]]\n"
     ]
    }
   ],
   "source": [
    "import numpy as np\n",
    "ucs420_aditya = np.array([[12,22,32,42],[52,62,72,82],[92,17,22,37]])\n",
    "print(ucs420_aditya)\n",
    "print('Mean : ', np.mean(ucs420_aditya))\n",
    "print('Median : ', np.median(ucs420_aditya))\n",
    "print('Max : ', np.max(ucs420_aditya))\n",
    "print('Min : ', np.min(ucs420_aditya))\n",
    "print('Unique elements: ', np.unique(ucs420_aditya))\n",
    "print()\n",
    "reshaped_ucs420_aditya = ucs420_aditya.reshape(4,3)\n",
    "print('Reshaped:')\n",
    "print(reshaped_ucs420_aditya)\n",
    "print()\n",
    "resized_ucs420_aditya = np.resize(ucs420_aditya, (2,3))\n",
    "print('Resized:')\n",
    "print(resized_ucs420_aditya)"
   ]
  }
 ],
 "metadata": {
  "kernelspec": {
   "display_name": "Python 3",
   "language": "python",
   "name": "python3"
  },
  "language_info": {
   "name": "python",
   "version": "3.10"
  }
 },
 "nbformat": 4,
 "nbformat_minor": 2
}
